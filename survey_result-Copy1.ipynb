{
 "cells": [
  {
   "cell_type": "markdown",
   "metadata": {},
   "source": [
    "## 빅데이터팀 퀵 서베이\n",
    "\n",
    "- 업무량과 팀문화, 만족도 등 다섯가지 문항 조사\n",
    "- 매니저와 리더그룹으로 세분화하여 비교 분석"
   ]
  },
  {
   "cell_type": "code",
   "execution_count": 1,
   "metadata": {},
   "outputs": [],
   "source": [
    "import numpy as np\n",
    "import pandas as pd\n",
    "import matplotlib.pyplot as plt\n",
    "%matplotlib inline\n",
    "\n",
    "import seaborn as sns\n",
    "\n",
    "import sqlite3\n",
    "\n",
    "plt.rcParams[\"font.family\"] =  'NanumGothicCoding'\n",
    "plt.rcParams[\"figure.figsize\"] = (14,4)\n",
    "plt.rcParams['lines.linewidth'] = 2\n",
    "plt.rcParams[\"axes.grid\"] = True"
   ]
  },
  {
   "cell_type": "markdown",
   "metadata": {},
   "source": [
    "설문지"
   ]
  },
  {
   "cell_type": "code",
   "execution_count": 2,
   "metadata": {},
   "outputs": [],
   "source": [
    "q1 = \"내가 하고 있는 업무량 적절하다\"\n",
    "q2 = \"내가 하고 있는 업무의 난이도는 적정하다\"\n",
    "q3 = \"나는 구체적인 지시가 없어도 주도적으로 업무를 계획하고 추진한다\"\n",
    "q4 = \"우리 팀원들은 서로의 업무기술과 아이디어에 대해 상호 존중해준다\"\n",
    "q5 = \"나는 팀에 대해 전반적으로 만족한다\""
   ]
  },
  {
   "cell_type": "markdown",
   "metadata": {},
   "source": [
    "설문 결과 읽기"
   ]
  },
  {
   "cell_type": "code",
   "execution_count": 3,
   "metadata": {},
   "outputs": [],
   "source": [
    "con = sqlite3.connect(\"survey.db\")\n",
    "result = pd.read_sql('select * from team_survey', con)"
   ]
  },
  {
   "cell_type": "markdown",
   "metadata": {},
   "source": [
    "---\n",
    "### 문항별 기초 통계"
   ]
  },
  {
   "cell_type": "code",
   "execution_count": 4,
   "metadata": {},
   "outputs": [
    {
     "data": {
      "text/html": [
       "<div>\n",
       "<style scoped>\n",
       "    .dataframe tbody tr th:only-of-type {\n",
       "        vertical-align: middle;\n",
       "    }\n",
       "\n",
       "    .dataframe tbody tr th {\n",
       "        vertical-align: top;\n",
       "    }\n",
       "\n",
       "    .dataframe thead th {\n",
       "        text-align: right;\n",
       "    }\n",
       "</style>\n",
       "<table border=\"1\" class=\"dataframe\">\n",
       "  <thead>\n",
       "    <tr style=\"text-align: right;\">\n",
       "      <th></th>\n",
       "      <th>a1</th>\n",
       "      <th>a2</th>\n",
       "      <th>a3</th>\n",
       "      <th>a4</th>\n",
       "      <th>a5</th>\n",
       "    </tr>\n",
       "  </thead>\n",
       "  <tbody>\n",
       "    <tr>\n",
       "      <th>count</th>\n",
       "      <td>10.0</td>\n",
       "      <td>10.0</td>\n",
       "      <td>10.0</td>\n",
       "      <td>10.0</td>\n",
       "      <td>10.0</td>\n",
       "    </tr>\n",
       "    <tr>\n",
       "      <th>mean</th>\n",
       "      <td>3.4</td>\n",
       "      <td>3.4</td>\n",
       "      <td>3.8</td>\n",
       "      <td>3.6</td>\n",
       "      <td>4.3</td>\n",
       "    </tr>\n",
       "    <tr>\n",
       "      <th>std</th>\n",
       "      <td>1.3</td>\n",
       "      <td>1.2</td>\n",
       "      <td>0.9</td>\n",
       "      <td>1.0</td>\n",
       "      <td>1.1</td>\n",
       "    </tr>\n",
       "    <tr>\n",
       "      <th>min</th>\n",
       "      <td>1.0</td>\n",
       "      <td>1.0</td>\n",
       "      <td>2.0</td>\n",
       "      <td>2.0</td>\n",
       "      <td>2.0</td>\n",
       "    </tr>\n",
       "    <tr>\n",
       "      <th>25%</th>\n",
       "      <td>3.0</td>\n",
       "      <td>3.0</td>\n",
       "      <td>3.2</td>\n",
       "      <td>3.2</td>\n",
       "      <td>4.0</td>\n",
       "    </tr>\n",
       "    <tr>\n",
       "      <th>50%</th>\n",
       "      <td>3.5</td>\n",
       "      <td>4.0</td>\n",
       "      <td>4.0</td>\n",
       "      <td>4.0</td>\n",
       "      <td>5.0</td>\n",
       "    </tr>\n",
       "    <tr>\n",
       "      <th>75%</th>\n",
       "      <td>4.0</td>\n",
       "      <td>4.0</td>\n",
       "      <td>4.0</td>\n",
       "      <td>4.0</td>\n",
       "      <td>5.0</td>\n",
       "    </tr>\n",
       "    <tr>\n",
       "      <th>max</th>\n",
       "      <td>5.0</td>\n",
       "      <td>5.0</td>\n",
       "      <td>5.0</td>\n",
       "      <td>5.0</td>\n",
       "      <td>5.0</td>\n",
       "    </tr>\n",
       "  </tbody>\n",
       "</table>\n",
       "</div>"
      ],
      "text/plain": [
       "         a1    a2    a3    a4    a5\n",
       "count  10.0  10.0  10.0  10.0  10.0\n",
       "mean    3.4   3.4   3.8   3.6   4.3\n",
       "std     1.3   1.2   0.9   1.0   1.1\n",
       "min     1.0   1.0   2.0   2.0   2.0\n",
       "25%     3.0   3.0   3.2   3.2   4.0\n",
       "50%     3.5   4.0   4.0   4.0   5.0\n",
       "75%     4.0   4.0   4.0   4.0   5.0\n",
       "max     5.0   5.0   5.0   5.0   5.0"
      ]
     },
     "execution_count": 4,
     "metadata": {},
     "output_type": "execute_result"
    },
    {
     "data": {
      "image/png": "[encoded data removed]",
      "text/plain": [
       "<Figure size 576x432 with 1 Axes>"
      ]
     },
     "metadata": {
      "needs_background": "light"
     },
     "output_type": "display_data"
    }
   ],
   "source": [
    "df = result.drop(['index', 'po'], axis=1).describe()\n",
    "ax = df.loc['mean',:].plot(kind='bar', figsize=(8,6), grid=True, fontsize=14, rot=0)\n",
    "ax.set_xticklabels(['Q1.업무량', 'Q2 난이도', 'Q3 주도성', 'Q4 상호존중','Q5.만족도']);\n",
    "plt.title(\"문항별 점수 평균\", fontdict={'fontsize':16, 'fontweight':'bold'})\n",
    "\n",
    "df.applymap('{:,.1f}'.format)"
   ]
  },
  {
   "cell_type": "markdown",
   "metadata": {},
   "source": [
    "[해석]  \n",
    "\n",
    "- 만족도는 4.3점으로 '높음' 수준을 넘어섬\n",
    "- '업무주도성'과 '팀내 상호존중'은 3.6점, 3.8점으로 높음(4점) 수준에 근접하나, '업무량 적정성'과 '업무 난이도 적정성'은 보통 수준에 가까움(3.4점)\n",
    "- 팀내에 업무량 배분이 적정한지, 과제별 난이도가 높지는 않은지 검토 필요함"
   ]
  },
  {
   "cell_type": "markdown",
   "metadata": {},
   "source": [
    "---\n",
    "### 직위별 통계"
   ]
  },
  {
   "cell_type": "code",
   "execution_count": 5,
   "metadata": {},
   "outputs": [
    {
     "data": {
      "image/png": "[encoded data removed]",
      "text/plain": [
       "<Figure size 576x432 with 1 Axes>"
      ]
     },
     "metadata": {
      "needs_background": "light"
     },
     "output_type": "display_data"
    }
   ],
   "source": [
    "xlabels = ['manager group','leader group']\n",
    "\n",
    "ax = result['po'].value_counts(sort=False).\\\n",
    "    plot(kind='bar', figsize=(8,6), grid=True, fontsize=14, rot=0)\n",
    "ax.set_xticklabels(xlabels)\n",
    "plt.title(\"직위 그룹별 응답자수\", fontdict={'fontsize':16, 'fontweight':'bold'});"
   ]
  },
  {
   "cell_type": "code",
   "execution_count": 6,
   "metadata": {},
   "outputs": [],
   "source": [
    "def show_result(var, script):\n",
    "    \"\"\"\n",
    "    1. 설문문항 내용 출력 \n",
    "    2. 응답자 평균 점수 출력 \n",
    "    3. 직위별 점수 차트(매니저/리더그룹)\n",
    "    \"\"\"\n",
    "    print(\"설문문항 : \" + script + \".(5점>매우그렇다, 3점>보통이다, 1점>매우아니다)\")\n",
    "    print(\"평균점수 : \" + str(result[var].mean()) + '점')\n",
    "    ser = result.groupby('po')[var].mean()    \n",
    "    ax = ser.plot(kind='bar', figsize=(8,6), grid=True, ylim=(0,5), fontsize=14, rot=0); \n",
    "    ax.set_xticklabels(xlabels)\n",
    "    ax.set_xlabel(\"\")\n",
    "    plt.show()"
   ]
  },
  {
   "cell_type": "markdown",
   "metadata": {},
   "source": [
    "---\n",
    "1번 문항 : 업무량 적절성"
   ]
  },
  {
   "cell_type": "code",
   "execution_count": 7,
   "metadata": {},
   "outputs": [
    {
     "name": "stdout",
     "output_type": "stream",
     "text": [
      "설문문항 : 내가 하고 있는 업무량 적절하다.(5점>매우그렇다, 3점>보통이다, 1점>매우아니다)\n",
      "평균점수 : 3.4점\n"
     ]
    },
    {
     "data": {
      "image/png": "[encoded data removed]",
      "text/plain": [
       "<Figure size 576x432 with 1 Axes>"
      ]
     },
     "metadata": {
      "needs_background": "light"
     },
     "output_type": "display_data"
    }
   ],
   "source": [
    "show_result('a1', q1)"
   ]
  },
  {
   "cell_type": "markdown",
   "metadata": {},
   "source": [
    "---\n",
    "2번 문항 : 업무 난이도 적정성"
   ]
  },
  {
   "cell_type": "code",
   "execution_count": 8,
   "metadata": {},
   "outputs": [
    {
     "name": "stdout",
     "output_type": "stream",
     "text": [
      "설문문항 : 내가 하고 있는 업무의 난이도는 적정하다.(5점>매우그렇다, 3점>보통이다, 1점>매우아니다)\n",
      "평균점수 : 3.4점\n"
     ]
    },
    {
     "data": {
      "image/png": "[encoded data removed]",
      "text/plain": [
       "<Figure size 576x432 with 1 Axes>"
      ]
     },
     "metadata": {
      "needs_background": "light"
     },
     "output_type": "display_data"
    }
   ],
   "source": [
    "show_result('a2', q2)"
   ]
  },
  {
   "cell_type": "markdown",
   "metadata": {},
   "source": [
    "---\n",
    "3번 문항 : 주도적 업무수행"
   ]
  },
  {
   "cell_type": "code",
   "execution_count": 9,
   "metadata": {},
   "outputs": [
    {
     "name": "stdout",
     "output_type": "stream",
     "text": [
      "설문문항 : 나는 구체적인 지시가 없어도 주도적으로 업무를 계획하고 추진한다.(5점>매우그렇다, 3점>보통이다, 1점>매우아니다)\n",
      "평균점수 : 3.8점\n"
     ]
    },
    {
     "data": {
      "image/png": "[encoded data removed]",
      "text/plain": [
       "<Figure size 576x432 with 1 Axes>"
      ]
     },
     "metadata": {
      "needs_background": "light"
     },
     "output_type": "display_data"
    }
   ],
   "source": [
    "show_result('a3', q3)"
   ]
  },
  {
   "cell_type": "markdown",
   "metadata": {},
   "source": [
    "---\n",
    "4번 문항 : 팀내 상호존중 문화"
   ]
  },
  {
   "cell_type": "code",
   "execution_count": 10,
   "metadata": {},
   "outputs": [
    {
     "name": "stdout",
     "output_type": "stream",
     "text": [
      "설문문항 : 우리 팀원들은 서로의 업무기술과 아이디어에 대해 상호 존중해준다.(5점>매우그렇다, 3점>보통이다, 1점>매우아니다)\n",
      "평균점수 : 3.6점\n"
     ]
    },
    {
     "data": {
      "image/png": "[encoded data removed]",
      "text/plain": [
       "<Figure size 576x432 with 1 Axes>"
      ]
     },
     "metadata": {
      "needs_background": "light"
     },
     "output_type": "display_data"
    }
   ],
   "source": [
    "show_result('a4', q4)"
   ]
  },
  {
   "cell_type": "markdown",
   "metadata": {},
   "source": [
    "---\n",
    "5번 문항 : 팀에 대한 전반적인 만족도"
   ]
  },
  {
   "cell_type": "code",
   "execution_count": 11,
   "metadata": {},
   "outputs": [
    {
     "name": "stdout",
     "output_type": "stream",
     "text": [
      "설문문항 : 나는 팀에 대해 전반적으로 만족한다.(5점>매우그렇다, 3점>보통이다, 1점>매우아니다)\n",
      "평균점수 : 4.3점\n"
     ]
    },
    {
     "data": {
      "image/png": "[encoded data removed]",
      "text/plain": [
       "<Figure size 576x432 with 1 Axes>"
      ]
     },
     "metadata": {
      "needs_background": "light"
     },
     "output_type": "display_data"
    }
   ],
   "source": [
    "show_result('a5', q5)"
   ]
  },
  {
   "cell_type": "markdown",
   "metadata": {},
   "source": [
    "[해석]  \n",
    "\n",
    "- 매니저 그룹에서는 리더그룹 대비 '업무량 적정하다'는 낮게 응답하였음\n",
    "- 리더그룹에서는 '팀내 상호존중의 문화이다'는 응답이 매니저그룹 대비해서 낮은 편이었음\n",
    "- '주도적 업무 추진'과 '전반적인 만족도'는 리더 그룹이 더 높았음"
   ]
  },
  {
   "cell_type": "markdown",
   "metadata": {},
   "source": [
    "---\n",
    "### 문항간의 상관 분석\n",
    "\n",
    "- **팀내 만족도를 끌어올리기 위해서는 집중해야 할 항목은?**"
   ]
  },
  {
   "cell_type": "markdown",
   "metadata": {},
   "source": [
    "문항간 상관계수 출력  \n",
    "Q1 업무량 적절성, Q2 업무 난이도, Q3 업무 주도, Q4 상호존중, Q5 만족도"
   ]
  },
  {
   "cell_type": "code",
   "execution_count": 12,
   "metadata": {},
   "outputs": [
    {
     "data": {
      "text/html": [
       "<div>\n",
       "<style scoped>\n",
       "    .dataframe tbody tr th:only-of-type {\n",
       "        vertical-align: middle;\n",
       "    }\n",
       "\n",
       "    .dataframe tbody tr th {\n",
       "        vertical-align: top;\n",
       "    }\n",
       "\n",
       "    .dataframe thead th {\n",
       "        text-align: right;\n",
       "    }\n",
       "</style>\n",
       "<table border=\"1\" class=\"dataframe\">\n",
       "  <thead>\n",
       "    <tr style=\"text-align: right;\">\n",
       "      <th></th>\n",
       "      <th>a1</th>\n",
       "      <th>a2</th>\n",
       "      <th>a3</th>\n",
       "      <th>a4</th>\n",
       "      <th>a5</th>\n",
       "    </tr>\n",
       "  </thead>\n",
       "  <tbody>\n",
       "    <tr>\n",
       "      <th>a1</th>\n",
       "      <td>1.000000</td>\n",
       "      <td>0.703454</td>\n",
       "      <td>0.172062</td>\n",
       "      <td>0.509175</td>\n",
       "      <td>0.480935</td>\n",
       "    </tr>\n",
       "    <tr>\n",
       "      <th>a2</th>\n",
       "      <td>0.703454</td>\n",
       "      <td>1.000000</td>\n",
       "      <td>0.082409</td>\n",
       "      <td>0.940634</td>\n",
       "      <td>0.786341</td>\n",
       "    </tr>\n",
       "    <tr>\n",
       "      <th>a3</th>\n",
       "      <td>0.172062</td>\n",
       "      <td>0.082409</td>\n",
       "      <td>1.000000</td>\n",
       "      <td>0.025031</td>\n",
       "      <td>0.410899</td>\n",
       "    </tr>\n",
       "    <tr>\n",
       "      <th>a4</th>\n",
       "      <td>0.509175</td>\n",
       "      <td>0.940634</td>\n",
       "      <td>0.025031</td>\n",
       "      <td>1.000000</td>\n",
       "      <td>0.781686</td>\n",
       "    </tr>\n",
       "    <tr>\n",
       "      <th>a5</th>\n",
       "      <td>0.480935</td>\n",
       "      <td>0.786341</td>\n",
       "      <td>0.410899</td>\n",
       "      <td>0.781686</td>\n",
       "      <td>1.000000</td>\n",
       "    </tr>\n",
       "  </tbody>\n",
       "</table>\n",
       "</div>"
      ],
      "text/plain": [
       "          a1        a2        a3        a4        a5\n",
       "a1  1.000000  0.703454  0.172062  0.509175  0.480935\n",
       "a2  0.703454  1.000000  0.082409  0.940634  0.786341\n",
       "a3  0.172062  0.082409  1.000000  0.025031  0.410899\n",
       "a4  0.509175  0.940634  0.025031  1.000000  0.781686\n",
       "a5  0.480935  0.786341  0.410899  0.781686  1.000000"
      ]
     },
     "execution_count": 12,
     "metadata": {},
     "output_type": "execute_result"
    },
    {
     "data": {
      "image/png": "[encoded data removed]",
      "text/plain": [
       "<Figure size 576x432 with 2 Axes>"
      ]
     },
     "metadata": {
      "needs_background": "light"
     },
     "output_type": "display_data"
    }
   ],
   "source": [
    "cor = result[['a1','a2','a3','a4','a5']].corr()\n",
    "\n",
    "plt.figure(figsize=(8,6))\n",
    "ax = sns.heatmap(cor, linewidths=.5, cmap=\"YlGnBu\", annot=True)\n",
    "ax.set_xticklabels(['Q1.업무량', 'Q2 난이도', 'Q3 주도성', 'Q4 상호존중', 'Q5 만족도'])\n",
    "ax.set_yticklabels(['Q1.업무량', 'Q2 난이도', 'Q3 주도성', 'Q4 상호존중', 'Q5 만족도'])\n",
    "\n",
    "cor"
   ]
  },
  {
   "cell_type": "markdown",
   "metadata": {},
   "source": [
    "- 짙은색 컬러일수록 문항 간에 상관관계가 높다.  \n",
    "- 상관관계가 높은 문항은? (상호존중,난이도), (난이도,만족도), (상호존중,만족도), (난이도,업무량)  \n",
    "- 가장 중요한 만족도 문항만 따로 보자"
   ]
  },
  {
   "cell_type": "code",
   "execution_count": 13,
   "metadata": {},
   "outputs": [
    {
     "data": {
      "image/png": "[encoded data removed]",
      "text/plain": [
       "<Figure size 576x288 with 1 Axes>"
      ]
     },
     "metadata": {
      "needs_background": "light"
     },
     "output_type": "display_data"
    }
   ],
   "source": [
    "ax = cor.iloc[4,:-1].plot(kind='bar', figsize=(8,4), grid=True, fontsize=14, rot=0); \n",
    "ax.set_xticklabels(['Q1.업무량', 'Q2 난이도', 'Q3 주도성', 'Q4 상호존중'])\n",
    "plt.title(\"팀 만족도와 문항별 상관계수\", fontdict={'fontsize':16, 'fontweight':'bold'})\n",
    "ax.set_xlabel(\"\");"
   ]
  },
  {
   "cell_type": "markdown",
   "metadata": {},
   "source": [
    "[해석]  \n",
    "팀 만족도와 상관관계가 높은 항목은 '업무 난이도 적정성'과 '팀 상호존중 문화'임\n",
    "\n",
    "두 가지 항목으로만 해석해본다면,  \n",
    "**과제 난이도가 적정**하면서 **상호존중하는 팀 문화**가 정착된다면  \n",
    "**팀에 대한 전반적인 만족도**를 효과적으로 높일 수 있을 것으로 생각됨 "
   ]
  },
  {
   "cell_type": "markdown",
   "metadata": {},
   "source": [
    "---\n",
    "**추가 확인 자료**  \n",
    "만족도,난이도,상호존중의 산점도를 그려보자\n",
    "\n",
    "- 문항 조합별 중복 응답수가 많아, Plotly의 버블차트를 활용한다.\n",
    "- 버블 크기는 응답자수에 비례한다. 즉, 여러명이 응답한 경우 버블 크기가 커진다. "
   ]
  },
  {
   "cell_type": "code",
   "execution_count": 14,
   "metadata": {},
   "outputs": [],
   "source": [
    "def show_bubble(x_var, y_var, xlabel, ylabel, script, bubble_size=500):    \n",
    "    \n",
    "    grouped = result[[x_var, y_var,'po']].groupby([x_var, y_var], as_index=False)['po'].count()\n",
    "    \n",
    "    x = grouped.iloc[:,0]\n",
    "    y = grouped.iloc[:,1]\n",
    "    s = grouped.iloc[:,2]*bubble_size*2      # 버블크기 (500^2 증가)\n",
    "    \n",
    "    bubbles_mpl = plt.figure()    \n",
    "    plt.scatter(x, y, s, alpha=0.75)\n",
    "    plt.title(script, fontdict={'fontsize':16, 'fontweight':'bold'})\n",
    "    plt.xlabel(xlabel, fontsize=14)\n",
    "    plt.ylabel(ylabel, fontsize=14)    \n",
    "    plt.xlim(0,6)\n",
    "    plt.ylim(0,6)    "
   ]
  },
  {
   "cell_type": "code",
   "execution_count": 15,
   "metadata": {},
   "outputs": [
    {
     "data": {
      "image/png": "[encoded data removed]",
      "text/plain": [
       "<Figure size 432x288 with 1 Axes>"
      ]
     },
     "metadata": {
      "needs_background": "light"
     },
     "output_type": "display_data"
    }
   ],
   "source": [
    "show_bubble('a2', 'a5', '업무난이도', '만족도', '업무난이도 적정성과 만족도와의 상관관계')"
   ]
  },
  {
   "cell_type": "code",
   "execution_count": 16,
   "metadata": {},
   "outputs": [
    {
     "data": {
      "image/png": "[encoded data removed]",
      "text/plain": [
       "<Figure size 432x288 with 1 Axes>"
      ]
     },
     "metadata": {
      "needs_background": "light"
     },
     "output_type": "display_data"
    }
   ],
   "source": [
    "show_bubble('a4', 'a5', '상호존중', '만족도', '팀원간 상호존중과 만족도와의 상관관계')"
   ]
  },
  {
   "cell_type": "markdown",
   "metadata": {},
   "source": [
    "---\n",
    "※ (주의)샘플수가 적어 해석시 주의를 요함(N=10)"
   ]
  }
 ],
 "metadata": {
  "kernelspec": {
   "display_name": "Python 3",
   "language": "python",
   "name": "python3"
  },
  "language_info": {
   "codemirror_mode": {
    "name": "ipython",
    "version": 3
   },
   "file_extension": ".py",
   "mimetype": "text/x-python",
   "name": "python",
   "nbconvert_exporter": "python",
   "pygments_lexer": "ipython3",
   "version": "3.6.8"
  }
 },
 "nbformat": 4,
 "nbformat_minor": 2
}
